{
  "cells": [
    {
      "cell_type": "markdown",
      "id": "80445652",
      "metadata": {},
      "source": [
        "# Last Make an Automation!"
      ]
    },
    {
      "cell_type": "markdown",
      "id": "6bf4861d",
      "metadata": {},
      "source": [
        "Now that we've experienced some image processing automations, let's create a new automation that will tie into the existing image processing pipeline!"
      ]
    },
    {
      "cell_type": "markdown",
      "id": "60938136",
      "metadata": {},
      "source": [
        "### Starting Point\n",
        "We've set the starting point of this step to be roughly the same as the end of the last step, minus the Highlights autoamtion."
      ]
    },
    {
      "cell_type": "markdown",
      "id": "26408958",
      "metadata": {},
      "source": [
        "### Goal\n",
        "In this step, we will create an automation that applies emboss to an image."
      ]
    },
    {
      "cell_type": "markdown",
      "id": "18982241",
      "metadata": {},
      "source": [
        "# Emboss Code\n",
        "We can create automations by dragging and dropping existing code onto an automation line. Let's start by adding code to our script that will perform the emboss function. \n",
        "\n",
        "First, add the following import to the start of the script. "
      ]
    },
    {
      "cell_type": "code",
      "execution_count": null,
      "id": "63898196",
      "metadata": {},
      "outputs": [],
      "source": [
        "from PIL import ImageFilter"
      ]
    },
    {
      "cell_type": "markdown",
      "id": "52777024",
      "metadata": {},
      "source": [
        "Second, add the following code after the Saturation automation but before the Visualization automation. "
      ]
    },
    {
      "cell_type": "code",
      "execution_count": null,
      "id": "70447830",
      "metadata": {},
      "outputs": [],
      "source": [
        "pilImage = Image.fromarray(imageSaturation)",
        "pilImage = pilImage.filter(ImageFilter.EMBOSS)",
        "imageEmboss = np.array(pilImage)"
      ]
    },
    {
      "cell_type": "markdown",
      "id": "94985214",
      "metadata": {},
      "source": [
        "And third, pass imageEmboss in the Visualization automation, for now, so that the emboss result will be visualizaed. "
      ]
    },
    {
      "cell_type": "markdown",
      "id": "33075675",
      "metadata": {},
      "source": [
        "[Compare to Sandbox.py Solution](./../Solutions/SolutionStep1.py)"
      ]
    },
    {
      "cell_type": "markdown",
      "id": "39327023",
      "metadata": {},
      "source": [
        "# Create Emboss Automation\n",
        "Now, let's create our emboss automation! \n",
        "\n",
        "First, add automation brackets above the emboss code. Add the word Emboss between the brackets. \n",
        "\n",
        "Second, highlight the emboss code you added. Then, drag and drop the highlighted code into the middle of the word emboss. Watch as the Emboss automation is created!\n",
        "\n",
        "[Compare to Sandbox.py Solution](./../Solutions/SolutionStep2.py)\n",
        "\n",
        "[Compare to Emboss.py Solution](./../Solutions/EmbossStep2.py)"
      ]
    },
    {
      "cell_type": "markdown",
      "id": "41458919",
      "metadata": {},
      "source": [
        "Next, highlight the line: from PIL import ImageFilter, and drag and drop in into the automation just as you did the emboss code. You'll notice that in the automation code, the import is added under the entry point self.CodeImport automatically. This will generate the import along with the rest of your imports. \n",
        "\n",
        "[Compare to Sandbox.py Solution](./../Solutions/SolutionStep3.py)\n",
        "\n",
        "[Compare to Emboss.py Solution](./../Solutions/EmbossStep3.py)"
      ]
    },
    {
      "cell_type": "markdown",
      "id": "49443111",
      "metadata": {},
      "source": [
        "At this point, the automation is functional, but only for this particular setup. Let's remove the item imageEmboss from the Visualize automation and now, our imageEmboss variable isn't being visualized. Let's make our automation more dynamic!\n",
        "\n",
        "[Compare to Sandbox.py Solution](./../Solutions/SolutionStep4.py)"
      ]
    },
    {
      "cell_type": "markdown",
      "id": "68506533",
      "metadata": {},
      "source": [
        "# Make Automation Dynamic\n",
        "Alright, let's modify our Emboss automation to communicate with previous and future automations in our chain. "
      ]
    },
    {
      "cell_type": "markdown",
      "id": "42839669",
      "metadata": {},
      "source": [
        "### Connect to Previous Automations\n",
        "Let's make edits to connect our automation to previous automations in the chain. \n",
        "\n",
        "First, add the following lines to the start of the ApplyAutomation function. These two lines utilize the Arctic Fox API. The first line finds a Data automation from the code scope. The second automation looks at the chain of automations connected to the Data automation and selects the most recent variable. "
      ]
    },
    {
      "cell_type": "code",
      "execution_count": null,
      "id": "16623603",
      "metadata": {},
      "outputs": [],
      "source": [
        "data:Data = self.SelectFrom('Data', self.CodeScope)",
        "dataResult = data.Chain.Last().ResultVariable()"
      ]
    },
    {
      "cell_type": "markdown",
      "id": "68998520",
      "metadata": {},
      "source": [
        "Next, we need to written code dependent on the dataResult variable. In the written code, the section under with self.CodeAfterAutomation, replace imageSaturation with ((dataResult)). Make sure to include the double parenthesis, in addition to the function's parenthesis. This will extract the value of dataResult and put it into the written code. \n",
        "\n",
        "[Compare to Emboss.py Solution](./../Solutions/EmbossStep5.py)"
      ]
    },
    {
      "cell_type": "markdown",
      "id": "24910108",
      "metadata": {},
      "source": [
        "### Connect to Future Automations\n",
        "Now, let's modify the automation so that future automations can connect to it. \n",
        "\n",
        "First, change PythonAutomation in the class definition to ChainablePythonAutomation. There's not much different between the two, but a Chainable automation contains a ResultVariable function to override. \n",
        "\n",
        "Second, therefore, add a new function to the class called ResultVariable that return the name of the final variable. You can use the function definition below."
      ]
    },
    {
      "cell_type": "code",
      "execution_count": null,
      "id": "83812907",
      "metadata": {},
      "outputs": [],
      "source": [
        "def ResultVariable(self):",
        "    return \"imageEmboss\""
      ]
    },
    {
      "cell_type": "markdown",
      "id": "20062028",
      "metadata": {},
      "source": [
        "Third, in the last line of the written code, change imageEmboss to ((self.ResultVariable())) . This will write the variable name from our ResultVariable function into the code. \n",
        "\n",
        "And Fourth, we need to add our automation onto the existing chaing. Add the following line to the end of the ApplyAutomation function."
      ]
    },
    {
      "cell_type": "code",
      "execution_count": null,
      "id": "22017866",
      "metadata": {},
      "outputs": [],
      "source": [
        "data.Chain.Add(self)",
        "\n"
      ]
    },
    {
      "cell_type": "markdown",
      "id": "47382964",
      "metadata": {},
      "source": [
        "Automate Arctic Fox to see the Visualize automation correctly using the imageEmboss variable now. "
      ]
    },
    {
      "cell_type": "markdown",
      "id": "48370634",
      "metadata": {},
      "source": [
        "[Compare to Sandbox.py Solution](./../Solutions/SolutionStep6.py)\n",
        "\n",
        "[Compare to Emboss.py Solution](./../Solutions/EmbossStep6.py)"
      ]
    },
    {
      "cell_type": "markdown",
      "id": "16412149",
      "metadata": {},
      "source": [
        "# One Last Thing\n",
        "Good job on creating your first automation! Let's add one more element to see our automation at work!\n",
        "\n",
        "First, run the Sandbox.py file. You probably notice in the result that it's mostly gray with some of the edges bleeding some color. Let's correct this. \n",
        "\n",
        "Add a GrayScale automation between the Emboss and Visualize automations. Move off the line and Arctic Fox should automate. \n",
        "\n",
        "**Check it out!** The GrayScale automation knew to use the imageEmboss variable as an input to np.dot() and the Visualize autoation updated to use imageGrayscale as its input. Also, Visualize knows this is now a single layer image and adds cmap='gray'. We didn't even have to think about that!\n",
        "\n",
        "This is great! We can place automations in whatever order we want and the written code accomodates the edits! We can move automations around and not worry about making multiple fine point changes. This enables us to design by intent and let the codebase adapt to us! \n",
        "\n",
        "[Compare to Sandbox.py Solution](./../Solutions/SolutionStep7.py)\n"
      ]
    },
    {
      "cell_type": "markdown",
      "id": "76377149",
      "metadata": {},
      "source": [
        "# That's a Wrap!\n",
        "And we're done! Hope you enjoyed the first week of the Arctic Fox Alpha. Let's chat and hear about your experience!"
      ]
    }
  ],
  "metadata": {
    "kernelspec": {
      "display_name": "Python 3",
      "language": "python",
      "name": "python3"
    },
    "language_info": {
      "codemirror_mode": {
        "name": "ipython",
        "version": 3
      },
      "file_extension": ".py",
      "mimetype": "text/x-python",
      "name": "python",
      "nbconvert_exporter": "python",
      "pygments_lexer": "ipython3",
      "version": "3.10.6"
    },
    "orig_nbformat": 4
  },
  "nbformat": 4,
  "nbformat_minor": 5
}